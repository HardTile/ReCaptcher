{
 "cells": [
  {
   "cell_type": "code",
   "execution_count": null,
   "id": "c3f0fa03-c734-4714-8f12-8df051c7b631",
   "metadata": {},
   "outputs": [],
   "source": [
    "from NN_post import app, client\n",
    "\n",
    "res = client.get(\"/predict\")\n",
    "res.get_json()"
   ]
  },
  {
   "cell_type": "code",
   "execution_count": 1,
   "id": "7942e08a-dcb9-4a56-93f4-274ba8f6ba63",
   "metadata": {},
   "outputs": [],
   "source": [
    "import base64\n",
    "\n",
    "img = None\n",
    "with open(\"input.txt\", \"r\") as f:\n",
    "    img = f.read()"
   ]
  },
  {
   "cell_type": "code",
   "execution_count": null,
   "id": "0e6be68b-9c3b-4f09-a4b0-2948278af0ba",
   "metadata": {},
   "outputs": [],
   "source": [
    "res = client.post(\"/predict\", data=img)\n",
    "print(res.get_json())"
   ]
  },
  {
   "cell_type": "code",
   "execution_count": 2,
   "id": "d145bd3c-7efd-4dd7-b1b5-5b191c8b190b",
   "metadata": {},
   "outputs": [
    {
     "name": "stdout",
     "output_type": "stream",
     "text": [
      "Код ответа: 200\n",
      "{'0': 'boat', '1': 'truck', '2': 'motorcycle', '3': 'airplane', '4': 'train', '5': 'truck', '6': 'motorcycle', '7': 'car', '8': 'boat'}\n"
     ]
    }
   ],
   "source": [
    "import requests\n",
    "import json\n",
    "\n",
    "url = \"http://127.0.0.1:5000/predict\"\n",
    "response = requests.post(url, data=img)\n",
    "\n",
    "print(\"Код ответа:\", response.status_code) # 200 - успешно\n",
    "response = json.loads(response.text)\n",
    "print(response)"
   ]
  },
  {
   "cell_type": "code",
   "execution_count": null,
   "id": "7c462b7b-c2f8-400b-ac9b-298e3dfdc21c",
   "metadata": {},
   "outputs": [],
   "source": [
    "import matplotlib.pyplot as plt\n",
    "import numpy as np\n",
    "import io\n",
    "import base64\n",
    "import cv2 as cv\n",
    "import tensorflow.keras.applications.efficientnet as eff_net\n",
    "\n",
    "img = None\n",
    "with open(\"input.txt\", \"r\") as f:\n",
    "    img = f.read()\n",
    "\n",
    "def preprocess_input_model(_image):\n",
    "    import PIL\n",
    "    \n",
    "    _image = _image.replace(\"data:image/jpeg;base64,\", \"\")\n",
    "    _image = PIL.Image.open(io.BytesIO(base64.b64decode(_image)))\n",
    "    \n",
    "    crop_image = _image.crop((20, 30, 110, 90))\n",
    "    crop_image = crop_image.resize((128, 128), PIL.Image.ANTIALIAS)\n",
    "    \n",
    "    crop_image = cv.cvtColor(np.array(crop_image), cv.COLOR_BGRA2BGR)\n",
    "    \n",
    "    return eff_net.preprocess_input(crop_image)[None, ...]\n",
    "\n",
    "img = img.split(\"\\n\")\n",
    "\n",
    "for i, image in enumerate(img):\n",
    "    plt.figure(figsize=(10, 10))\n",
    "    plt.subplot(3, 3, i+1)\n",
    "    plt.imshow(preprocess_input_model(image)[0, ...])"
   ]
  }
 ],
 "metadata": {
  "kernelspec": {
   "display_name": "Python 3 (ipykernel)",
   "language": "python",
   "name": "python3"
  },
  "language_info": {
   "codemirror_mode": {
    "name": "ipython",
    "version": 3
   },
   "file_extension": ".py",
   "mimetype": "text/x-python",
   "name": "python",
   "nbconvert_exporter": "python",
   "pygments_lexer": "ipython3",
   "version": "3.8.11"
  }
 },
 "nbformat": 4,
 "nbformat_minor": 5
}
